{
 "cells": [
  {
   "cell_type": "markdown",
   "metadata": {},
   "source": [
    "# Magnetic Field Evaluation\n",
    "\n",
    "3D magnetic Field in Cartesian coordinates is a 4D array.\n",
    "$$\n",
    "\\vec{B} = B_x\\hat{x} + B_y\\hat{y} + B_z\\hat{z}\n",
    "$$\n",
    "```\n",
    "Bx.shape = By.shape = Bz.shape = (nx, ny, nz)\n",
    "\n",
    "B = np.stack([Bx, By, Bz], axis=-1)\n",
    "B.shape = (nx, ny, nz, 3)\n",
    "\n",
    "Bx = B[:, :, :, 0]\n",
    "By = B[:, :, :, 1]\n",
    "Bz = B[:, :, :, 2]\n",
    "```\n",
    "\n",
    "SHARP CEA magnetic components in heliocentric spherical coordinates ($B_p, B_t, B_r$)\n",
    "can be converted to magnetic components in heliographic cartesian coordiates ($B_x, B_y, B_z$)\n",
    "\n",
    "$$\n",
    "B_x = B_p, B_y = -B_t, B_z = B_r\n",
    "$$"
   ]
  },
  {
   "cell_type": "code",
   "execution_count": 1,
   "metadata": {},
   "outputs": [],
   "source": [
    "# HARP num, NOAA num, obsdate\n",
    "harpnum = 7115\n",
    "noaanum = 12673\n",
    "obsdate = \"20170906_000000\"\n",
    "\n",
    "# SHARP\n",
    "fits_file = f\"/mnt/obsdata/sdo_AR/NOAA{noaanum}_HARP{harpnum}/hmi/hmi.sharp_cea_720s.{harpnum}.{obsdate}_TAI.Bp.fits\"\n",
    "\n",
    "# NF2\n",
    "nf2_file = f\"/mnt/obsdata/nf2/notebook/{harpnum}_series/{obsdate}_TAI.nf2\"\n",
    "\n",
    "# Kusano\n",
    "nc_file = f\"/mnt/obsdata/isee_nlfff_v1.2/{noaanum}/{noaanum}_{obsdate}.nc\"\n",
    "\n",
    "# pynlfff\n",
    "bin_file = f\"/mnt/obsdata/pynlfff/grid3.done/num_7100_7199/hmi.sharp_cea_720s.{harpnum}.{obsdate}_TAI/Bout.bin\""
   ]
  },
  {
   "cell_type": "markdown",
   "metadata": {},
   "source": [
    "## SHARP"
   ]
  },
  {
   "cell_type": "code",
   "execution_count": 2,
   "metadata": {},
   "outputs": [],
   "source": [
    "import os\n",
    "from copy import deepcopy\n",
    "from tool.load_nlfff import nlfff\n",
    "\n",
    "class MagneticField:\n",
    "    def __init__(self):\n",
    "        pass\n",
    "\n",
    "    def read_file(self, file_path):\n",
    "        ext = os.path.basename(file_path).split('.')[-1]\n",
    "\n",
    "        if ext == \"fits\":\n",
    "            file_path_list = []\n",
    "\n",
    "            segments = [\"Bp\", \"Bt\", \"Br\", \"Bp_err\", \"Bt_err\", \"Br_err\"]\n",
    "            base = os.path.basename(file_path).split('.')\n",
    "            for segment in segments:\n",
    "                new_base = deepcopy(base)\n",
    "                new_base[-2] = segment \n",
    "                new_base = '.'.join(new_base)\n",
    "                new_file_path = os.path.join(os.path.dirname(file_path), new_base)\n",
    "\n",
    "                file_path_list.append(new_file_path)    \n",
    "\n",
    "            self.b = self._read_fits(file_path_list)\n",
    "            return self.b\n",
    "            \n",
    "        elif ext == \"nf2\":\n",
    "            print(\"NF2\")\n",
    "\n",
    "            self.b = self._read_nf2(file_path)\n",
    "            return self.b\n",
    "\n",
    "        elif ext == \"nc\":\n",
    "            print(\"Kusano\")\n",
    "\n",
    "            data = self._read_nc(file_path)\n",
    "            return data\n",
    "\n",
    "        elif ext == \"bin\":\n",
    "            print(\"pynlfff\")\n",
    "\n",
    "            self.b = self._read_bin(file_path)\n",
    "            return self.b\n",
    "            \n",
    "        else:\n",
    "            raise NotImplementedError\n",
    "    \n",
    "    def _read_fits(self, file_path_list):\n",
    "        b = [1]\n",
    "        return b \n",
    "    \n",
    "    def _read_nf2(self, nf2_file):\n",
    "        b = [1]\n",
    "        return b\n",
    "    \n",
    "    def _read_nc(self, nc_file):\n",
    "        data = nlfff(nc_file)\n",
    "        return data\n",
    "    \n",
    "    def _read_bin(self, bin_file):\n",
    "        b = [1]\n",
    "        return b \n",
    "    \n",
    "    def evaluate(self, result_file_path=os.path.abspath(\"./result.pickle\"), overwrite=False):\n",
    "        b = self.b \n",
    "        \n",
    "        if os.path.exists(result_file_path) and (overwrite is False):\n",
    "            self.result = {'b': b}\n",
    "            pass # load \n",
    "        else:\n",
    "            self.result = {'b': b}\n",
    "            pass # calculate and save\n",
    "\n",
    "        return self.result, result_file_path\n",
    "    \n",
    "    def plot(self, plot_file_path=os.path.abspath(\"./result.png\"), overwrite=False):\n",
    "        result = self.result \n",
    "        \n",
    "        if os.path.exists(plot_file_path) and (overwrite is False):\n",
    "            pass # just draw\n",
    "        else:\n",
    "            pass # draw and save\n",
    "        \n",
    "        return plot_file_path"
   ]
  },
  {
   "cell_type": "code",
   "execution_count": 3,
   "metadata": {},
   "outputs": [
    {
     "name": "stdout",
     "output_type": "stream",
     "text": [
      "Kusano\n"
     ]
    },
    {
     "data": {
      "text/plain": [
       "'/userhome/jeon_mg/workspace/codes/Magnetic_Field_Evaluation/result.png'"
      ]
     },
     "execution_count": 3,
     "metadata": {},
     "output_type": "execute_result"
    }
   ],
   "source": [
    "r = MagneticField()\n",
    "r.read_file(nc_file)\n",
    "r.evaluate()\n",
    "r.plot()"
   ]
  },
  {
   "cell_type": "markdown",
   "metadata": {},
   "source": [
    "## Kusano"
   ]
  },
  {
   "cell_type": "code",
   "execution_count": null,
   "metadata": {},
   "outputs": [],
   "source": []
  }
 ],
 "metadata": {
  "kernelspec": {
   "display_name": "nf2",
   "language": "python",
   "name": "python3"
  },
  "language_info": {
   "codemirror_mode": {
    "name": "ipython",
    "version": 3
   },
   "file_extension": ".py",
   "mimetype": "text/x-python",
   "name": "python",
   "nbconvert_exporter": "python",
   "pygments_lexer": "ipython3",
   "version": "3.10.12"
  },
  "orig_nbformat": 4
 },
 "nbformat": 4,
 "nbformat_minor": 2
}
