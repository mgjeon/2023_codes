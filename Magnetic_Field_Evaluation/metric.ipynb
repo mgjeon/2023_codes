{
 "cells": [
  {
   "cell_type": "code",
   "execution_count": 1,
   "metadata": {},
   "outputs": [],
   "source": [
    "import netCDF4\n",
    "import numpy as np \n",
    "import matplotlib.pyplot as plt"
   ]
  },
  {
   "cell_type": "code",
   "execution_count": 2,
   "metadata": {},
   "outputs": [],
   "source": [
    "filename = \"/Users/mgjeon/workspace/12673_20170906_000000.nc\""
   ]
  },
  {
   "cell_type": "code",
   "execution_count": 7,
   "metadata": {},
   "outputs": [
    {
     "data": {
      "text/plain": [
       "((513, 257, 257), 0.48969578700000227, 0.6377433539999942, 0.637743354)"
      ]
     },
     "execution_count": 7,
     "metadata": {},
     "output_type": "execute_result"
    }
   ],
   "source": [
    "nc = netCDF4.Dataset(filename, 'r')\n",
    "\n",
    "x = np.array(nc.variables['x'])\n",
    "y = np.array(nc.variables['y'])\n",
    "z = np.array(nc.variables['z'])\n",
    "\n",
    "Bx = np.array(nc.variables['Bx']).transpose(2, 1, 0)\n",
    "By = np.array(nc.variables['By']).transpose(2, 1, 0)\n",
    "Bz = np.array(nc.variables['Bz']).transpose(2, 1, 0)\n",
    "\n",
    "dx = np.diff(x)[0]\n",
    "dy = np.diff(y)[0]\n",
    "dz = np.diff(z)[0]\n",
    "\n",
    "Bx.shape, dx, dy, dz"
   ]
  },
  {
   "cell_type": "code",
   "execution_count": 11,
   "metadata": {},
   "outputs": [],
   "source": [
    "from findiff import Curl"
   ]
  },
  {
   "cell_type": "code",
   "execution_count": 12,
   "metadata": {},
   "outputs": [],
   "source": [
    "curl = Curl(h=[dx, dy, dz])"
   ]
  },
  {
   "cell_type": "code",
   "execution_count": 13,
   "metadata": {},
   "outputs": [
    {
     "data": {
      "text/plain": [
       "((3, 513, 257, 257), (3, 513, 257, 257))"
      ]
     },
     "execution_count": 13,
     "metadata": {},
     "output_type": "execute_result"
    }
   ],
   "source": [
    "B = np.stack([Bx, By, Bz])\n",
    "J = curl(B)\n",
    "\n",
    "J.shape, B.shape"
   ]
  },
  {
   "cell_type": "code",
   "execution_count": 16,
   "metadata": {},
   "outputs": [
    {
     "data": {
      "text/plain": [
       "array([-3,  6, -3])"
      ]
     },
     "execution_count": 16,
     "metadata": {},
     "output_type": "execute_result"
    }
   ],
   "source": [
    "a = [1, 2, 3]\n",
    "b = [4, 5, 6]\n",
    "np.cross(a, b)"
   ]
  },
  {
   "cell_type": "code",
   "execution_count": 18,
   "metadata": {},
   "outputs": [
    {
     "data": {
      "text/plain": [
       "array([[-3,  6, -3],\n",
       "       [-3,  6, -3]])"
      ]
     },
     "execution_count": 18,
     "metadata": {},
     "output_type": "execute_result"
    }
   ],
   "source": [
    "A = np.array([a, a])\n",
    "B = np.array([b, b])\n",
    "\n",
    "np.cross(A, B)"
   ]
  },
  {
   "cell_type": "code",
   "execution_count": 19,
   "metadata": {},
   "outputs": [
    {
     "data": {
      "text/plain": [
       "(2, 3)"
      ]
     },
     "execution_count": 19,
     "metadata": {},
     "output_type": "execute_result"
    }
   ],
   "source": [
    "A.shape"
   ]
  },
  {
   "cell_type": "code",
   "execution_count": 15,
   "metadata": {},
   "outputs": [
    {
     "data": {
      "text/plain": [
       "array([[-2.75378470e+02, -1.02033982e+02,  5.84179645e-01],\n",
       "       [ 5.64987825e-02, -4.51712117e-02, -4.87601450e-02],\n",
       "       [-3.62332724e-02, -2.47748552e-02, -1.67849924e-02],\n",
       "       ...,\n",
       "       [ 9.67016675e-01,  9.56757185e-01,  9.47258031e-01],\n",
       "       [ 9.37597001e-01,  9.26309549e-01,  9.11462721e-01],\n",
       "       [ 8.93126122e-01,  8.76518707e-01,  8.86941358e-01]])"
      ]
     },
     "execution_count": 15,
     "metadata": {},
     "output_type": "execute_result"
    }
   ],
   "source": [
    "J.reshape(-1, 3)"
   ]
  },
  {
   "cell_type": "code",
   "execution_count": null,
   "metadata": {},
   "outputs": [],
   "source": [
    "JxB = np.cross(J, B, axis=)"
   ]
  }
 ],
 "metadata": {
  "kernelspec": {
   "display_name": "pynlfff",
   "language": "python",
   "name": "python3"
  },
  "language_info": {
   "codemirror_mode": {
    "name": "ipython",
    "version": 3
   },
   "file_extension": ".py",
   "mimetype": "text/x-python",
   "name": "python",
   "nbconvert_exporter": "python",
   "pygments_lexer": "ipython3",
   "version": "3.10.12"
  },
  "orig_nbformat": 4
 },
 "nbformat": 4,
 "nbformat_minor": 2
}
