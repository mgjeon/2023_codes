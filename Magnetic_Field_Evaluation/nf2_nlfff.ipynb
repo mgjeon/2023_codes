{
 "cells": [
  {
   "cell_type": "code",
   "execution_count": null,
   "metadata": {},
   "outputs": [],
   "source": [
    "from setproctitle import setproctitle\n",
    "\n",
    "setproctitle(\"nf2\")\n",
    "\n",
    "import os\n",
    "\n",
    "os.environ[\"CUDA_DEVICE_ORDER\"] = \"PCI_BUS_ID\"\n",
    "os.environ[\"CUDA_VISIBLE_DEVICES\"] = \"3\""
   ]
  },
  {
   "cell_type": "code",
   "execution_count": null,
   "metadata": {},
   "outputs": [],
   "source": [
    "nf2_file = \"/mnt/obsdata/nf2/notebook/7115_series/20170906_000000_TAI.nf2\""
   ]
  },
  {
   "cell_type": "code",
   "execution_count": null,
   "metadata": {},
   "outputs": [],
   "source": [
    "ext = os.path.basename(nf2_file).split(\".\")[1]"
   ]
  },
  {
   "cell_type": "code",
   "execution_count": null,
   "metadata": {},
   "outputs": [
    {
     "data": {
      "text/plain": [
       "'20170906T000000'"
      ]
     },
     "execution_count": null,
     "metadata": {},
     "output_type": "execute_result"
    }
   ],
   "source": [
    "os.path.basename(nf2_file).split(\".\")[0][:-4].replace(\"_\", \"T\")"
   ]
  },
  {
   "cell_type": "code",
   "execution_count": null,
   "metadata": {},
   "outputs": [],
   "source": [
    "from tool.nf2.evaluation.unpack import load_cube\n",
    "from tool.nf2.potential.potential_field import get_potential_field"
   ]
  },
  {
   "cell_type": "code",
   "execution_count": null,
   "metadata": {},
   "outputs": [
    {
     "name": "stderr",
     "output_type": "stream",
     "text": [
      "100%|██████████| 12329/12329 [00:15<00:00, 804.89it/s]\n",
      "Potential Field: 100%|██████████| 12329/12329 [02:56<00:00, 69.91it/s]\n"
     ]
    }
   ],
   "source": [
    "B = load_cube(nf2_file, progress=True)\n",
    "B_pot = get_potential_field(B[:, :, 0, 2], B.shape[2], batch_size=int(1e3))"
   ]
  },
  {
   "cell_type": "code",
   "execution_count": null,
   "metadata": {},
   "outputs": [
    {
     "data": {
      "text/plain": [
       "(344, 224, 160, 3)"
      ]
     },
     "execution_count": null,
     "metadata": {},
     "output_type": "execute_result"
    }
   ],
   "source": [
    "B.shape"
   ]
  },
  {
   "cell_type": "code",
   "execution_count": null,
   "metadata": {},
   "outputs": [
    {
     "data": {
      "text/plain": [
       "(344, 224, 160, 3)"
      ]
     },
     "execution_count": null,
     "metadata": {},
     "output_type": "execute_result"
    }
   ],
   "source": [
    "B_pot.shape"
   ]
  },
  {
   "cell_type": "code",
   "execution_count": null,
   "metadata": {},
   "outputs": [],
   "source": [
    "Bx = B[..., 0]\n",
    "By = B[..., 1]\n",
    "Bz = B[..., 2]\n",
    "\n",
    "Bx_pot = B_pot[..., 0]\n",
    "By_pot = B_pot[..., 1]\n",
    "Bz_pot = B_pot[..., 2]"
   ]
  },
  {
   "cell_type": "code",
   "execution_count": null,
   "metadata": {},
   "outputs": [],
   "source": [
    "import numpy as np\n",
    "import torch"
   ]
  },
  {
   "cell_type": "code",
   "execution_count": null,
   "metadata": {},
   "outputs": [],
   "source": [
    "state = torch.load(nf2_file)"
   ]
  },
  {
   "cell_type": "code",
   "execution_count": null,
   "metadata": {},
   "outputs": [
    {
     "data": {
      "text/plain": [
       "{'model': BModel(\n",
       "   (d_in): Linear(in_features=3, out_features=256, bias=True)\n",
       "   (linear_layers): ModuleList(\n",
       "     (0-7): 8 x Linear(in_features=256, out_features=256, bias=True)\n",
       "   )\n",
       "   (d_out): Linear(in_features=256, out_features=3, bias=True)\n",
       "   (activation): Sine()\n",
       " ),\n",
       " 'cube_shape': [344, 224, 160],\n",
       " 'b_norm': 2500,\n",
       " 'spatial_norm': 160,\n",
       " 'meta_data': MetaDict([('simple', True),\n",
       "           ('bitpix', 32),\n",
       "           ('naxis', 2),\n",
       "           ('naxis1', 688),\n",
       "           ('naxis2', 448),\n",
       "           ('blank', -2147483648),\n",
       "           ('bzero', 0.0),\n",
       "           ('bscale', 0.01),\n",
       "           ('checksum', 'ZA8ZZ66YZA6YZ56Y'),\n",
       "           ('datasum', '695910676'),\n",
       "           ('date', '2017-10-11T03:08:26.000'),\n",
       "           ('date_s', '2017-09-10T16:27:19.000'),\n",
       "           ('date_b', '2017-09-12T08:09:18.000'),\n",
       "           ('date-obs', '2017-09-05T23:58:42.000'),\n",
       "           ('t_obs', '2017.09.06_00:00:03.957_TAI'),\n",
       "           ('t_rec', '2017.09.06_00:00:00.000_TAI'),\n",
       "           ('trecepoc', '1993.01.01_00:00:00.000_TAI'),\n",
       "           ('trecstep', 720.0),\n",
       "           ('trecunit', 'secs'),\n",
       "           ('cadence', 720.0),\n",
       "           ('usflux', 4.11605407e+22),\n",
       "           ('meangam', 53.7555313),\n",
       "           ('meangbt', 102.25824),\n",
       "           ('meangbz', 119.82589),\n",
       "           ('meangbh', 73.3347321),\n",
       "           ('meanjzd', -0.0858007222),\n",
       "           ('totusjz', 82407562700000.0),\n",
       "           ('meanalp', -0.0995259732),\n",
       "           ('meanjzh', -0.0670489147),\n",
       "           ('totusjh', 6618.40918),\n",
       "           ('absnjzh', 3639.48193),\n",
       "           ('savncpp', 87630310000000.0),\n",
       "           ('meanpot', 21447.25),\n",
       "           ('totpot', 1.54608013e+24),\n",
       "           ('meanshr', 47.1423149),\n",
       "           ('shrgt45', 50.7986259),\n",
       "           ('r_value', 5.17078781),\n",
       "           ('gwill', None),\n",
       "           ('ctype1', 'CRLN-CEA'),\n",
       "           ('ctype2', 'CRLT-CEA'),\n",
       "           ('crpix1', 172.5),\n",
       "           ('crpix2', 112.5),\n",
       "           ('crval1', 118.931313),\n",
       "           ('crval2', -9.24354935),\n",
       "           ('cdelt1', 0.0599999986),\n",
       "           ('cdelt2', 0.0599999986),\n",
       "           ('cunit1', 'degree'),\n",
       "           ('cunit2', 'degree'),\n",
       "           ('imcrpix1', 2040.17236),\n",
       "           ('imcrpix2', 2050.6438),\n",
       "           ('imcrval1', 0.0),\n",
       "           ('imcrval2', 0.0),\n",
       "           ('crota2', 0.0),\n",
       "           ('crder1', 0.0),\n",
       "           ('crder2', 0.0),\n",
       "           ('csyser1', None),\n",
       "           ('csyser2', None),\n",
       "           ('wcsname', 'Carrington Heliographic'),\n",
       "           ('dsun_obs', 150784064742.67682),\n",
       "           ('dsun_ref', 149597870691.0),\n",
       "           ('rsun_ref', 696000000.0),\n",
       "           ('crln_obs', 88.8854599),\n",
       "           ('crlt_obs', 7.25602055),\n",
       "           ('car_rot', 2194),\n",
       "           ('obs_vr', 2552.261625948092),\n",
       "           ('obs_vw', 28859.21532649338),\n",
       "           ('obs_vn', 407.7062719289137),\n",
       "           ('rsun_obs', 952.095458984375),\n",
       "           ('telescop', 'SDO/HMI'),\n",
       "           ('instrume', 'HMI_COMBINED'),\n",
       "           ('wavelnth', 6173.0),\n",
       "           ('camera', 3),\n",
       "           ('quality', 0),\n",
       "           ('qual_s', 0),\n",
       "           ('quallev1', 0),\n",
       "           ('bunit', 'Mx/cm^2'),\n",
       "           ('origin', 'SDO/JSOC-SDP'),\n",
       "           ('content', 'HMI observable'),\n",
       "           ('comment',\n",
       "            \"FITS (Flexible Image Transport System) format is defined in 'Astronomy  and Astrophysics', volume 376, page 359; bibcode: 2001A&A...376..359H  This FITS file may contain long string keyword values that are  continued over multiple keywords.  The HEASARC convention uses the &  character at the end of each substring which is then continued  on the next keyword which has the name CONTINUE.\"),\n",
       "           ('bld_vers', 'V9R1X'),\n",
       "           ('calver64', 204818),\n",
       "           ('codever7',\n",
       "            '$Id: sharp.c,v 1.38 2015/03/18 00:28:26 xudong Exp $ $Id'),\n",
       "           ('hflid', 1022),\n",
       "           ('hcftid', 11),\n",
       "           ('qlook', 0),\n",
       "           ('harpnum', 7115),\n",
       "           ('mask', 32),\n",
       "           ('arm_qual', 0),\n",
       "           ('arm_ncln', 47),\n",
       "           ('h_merge', 0),\n",
       "           ('h_faint', 0),\n",
       "           ('arm_modl', '/builtin/hmi.M_Ic_noLimbDark_720s.production'),\n",
       "           ('arm_edge', 2.5),\n",
       "           ('arm_beta', '0.3'),\n",
       "           ('latdtmin', -15.9709997),\n",
       "           ('londtmin', 19.7287006),\n",
       "           ('latdtmax', -2.51609993),\n",
       "           ('londtmax', 40.362999),\n",
       "           ('omega_dt', 13.5587997),\n",
       "           ('npix', 140258),\n",
       "           ('size', 12527.7266),\n",
       "           ('area', 7523.42627),\n",
       "           ('nacr', 28810),\n",
       "           ('size_acr', 2573.28491),\n",
       "           ('area_acr', 1545.55762),\n",
       "           ('mtot', 19920782.0),\n",
       "           ('mnet', 41285.0),\n",
       "           ('mpos_tot', 9981034.0),\n",
       "           ('mneg_tot', 9939749.0),\n",
       "           ('mmean', 0.294350415),\n",
       "           ('mstdev', 300.995056),\n",
       "           ('mskew', 0.471366107),\n",
       "           ('mkurt', 8.53201866),\n",
       "           ('lat_min', -15.6021404),\n",
       "           ('lon_min', 19.8206902),\n",
       "           ('lat_max', -2.59644485),\n",
       "           ('lon_max', 36.8995895),\n",
       "           ('lat_fwt', -9.25311756),\n",
       "           ('lon_fwt', 29.2018414),\n",
       "           ('latfwtpo', -10.4696226),\n",
       "           ('lonfwtpo', 29.2055912),\n",
       "           ('latfwtne', -7.78141403),\n",
       "           ('lonfwtne', 29.1973057),\n",
       "           ('t_frst', '2017.08.27_10:00:00.000_TAI'),\n",
       "           ('t_frst1', '2017.08.28_08:12:00.000_TAI'),\n",
       "           ('t_last1', '2017.09.10_11:12:00.000_TAI'),\n",
       "           ('t_last', '2017.09.11_03:48:00.000_TAI'),\n",
       "           ('n_patch', 1676),\n",
       "           ('n_patch1', 1491),\n",
       "           ('n_patchm', 85),\n",
       "           ('noaa_ar', 12673),\n",
       "           ('noaa_num', 1),\n",
       "           ('noaa_ars', '12673'),\n",
       "           ('invcodev',\n",
       "            'vfisvcombine FD10 2013 Apr. 30; uses time-dependent HMI filter phase maps'),\n",
       "           ('invdocu', None),\n",
       "           ('invitera', 200),\n",
       "           ('invstlgt', 'No'),\n",
       "           ('invflprf', ''),\n",
       "           ('invphmap', '121048472'),\n",
       "           ('usfluxl', 3.217154500291443e+22),\n",
       "           ('meangbl', 33.78374099731445),\n",
       "           ('invbbave', 121.62382588907644),\n",
       "           ('cmaskl', 171114),\n",
       "           ('invncnvg', 11195794),\n",
       "           ('ambcodev', 'disambig_v3 2013 Dec 06'),\n",
       "           ('ambdocu', None),\n",
       "           ('ambgmtry', 2),\n",
       "           ('ambpatch', 0),\n",
       "           ('ambweak', 2),\n",
       "           ('ambnerod', 1),\n",
       "           ('ambngrow', 5),\n",
       "           ('ambnpad', 200),\n",
       "           ('ambnap', 10),\n",
       "           ('ambntx', 30),\n",
       "           ('ambnty', 30),\n",
       "           ('ambbthr0', 200.0),\n",
       "           ('ambbthr1', 400.0),\n",
       "           ('ambseed', 4),\n",
       "           ('ambneq', 100),\n",
       "           ('amblmbda', 1.0),\n",
       "           ('ambtfct0', 2.0),\n",
       "           ('ambtfctr', 0.9800000190734863),\n",
       "           ('datavals', 308224),\n",
       "           ('missvals', 0),\n",
       "           ('datamin', -3658.3999),\n",
       "           ('datamax', 1831.27002),\n",
       "           ('datamedn', -3.40856123),\n",
       "           ('datamean', 14.196044),\n",
       "           ('datarms', 215.233871),\n",
       "           ('errgam', 0.0270608421),\n",
       "           ('errtai', 114.793839),\n",
       "           ('errbh', 0.390921235),\n",
       "           ('errmpot', 70.0105515),\n",
       "           ('errbt', 0.339802355),\n",
       "           ('errtui', 114.793839),\n",
       "           ('errbz', 0.174644008),\n",
       "           ('cmask', 54281.0),\n",
       "           ('errjz', 0.110770792),\n",
       "           ('errvf', 1.86417776e+19),\n",
       "           ('erralp', 0.0031329419),\n",
       "           ('errmih', 0.00211480702),\n",
       "           ('errmsha', 0.000737920054),\n",
       "           ('errusi', 798519788000.0),\n",
       "           ('doffset', 50),\n",
       "           ('errtpot', 5.04689081e+21),\n",
       "           ('errjht', 3213146980000.0),\n",
       "           ('recnum', 6011579),\n",
       "           ('drms_id', 'hmi.sharp_cea_720s:6011579:Bp'),\n",
       "           ('primaryk', 'HARPNUM, T_REC'),\n",
       "           ('license', 'LICENSE'),\n",
       "           ('headsum', 'WflGXZjEWdjEWZjE'),\n",
       "           ('longstrn', 'OGIP 1.0'),\n",
       "           ('history', ''),\n",
       "           ('keycomments',\n",
       "            {'SIMPLE': 'file does conform to FITS standard',\n",
       "             'BITPIX': 'data type of original image',\n",
       "             'NAXIS': 'dimension of original image',\n",
       "             'NAXIS1': 'length of original image axis',\n",
       "             'NAXIS2': 'length of original image axis',\n",
       "             'CHECKSUM': 'HDU checksum updated 2023-06-19T08:35:37',\n",
       "             'DATASUM': 'data unit checksum updated 2017-10-11T03:08:47',\n",
       "             'DATE': '[ISO] HDU creation date',\n",
       "             'DATE_S': '[ISO] Date_time of generating Stokes data',\n",
       "             'DATE_B': '[ISO] Date_time of generating Bharp data',\n",
       "             'DATE-OBS': '[ISO] Observation date {DATE__OBS}',\n",
       "             'T_OBS': '[TAI] nominal time',\n",
       "             'T_REC': '[TAI] Slot time',\n",
       "             'TRECEPOC': '[TAI] Time of origin {T_REC_epoch}',\n",
       "             'TRECSTEP': '[seconds] ts_eq step {T_REC_step}',\n",
       "             'TRECUNIT': 'ts_eq unit {T_REC_unit}',\n",
       "             'CADENCE': '[seconds] repetition interval',\n",
       "             'USFLUX': '[Maxwell] Total unsigned flux',\n",
       "             'MEANGAM': '[Degrees] Mean inclination angle, gamma',\n",
       "             'MEANGBT': '[Gauss/Mm] Mean value of the total field gradie',\n",
       "             'MEANGBZ': '[Gauss/Mm] Mean value of the vertical field gra',\n",
       "             'MEANGBH': '[Gauss/Mm] Mean value of the horizontal field g',\n",
       "             'MEANJZD': '[mA/(m^2)] Mean vertical current density',\n",
       "             'TOTUSJZ': '[Amperes] Total unsigned vertical current',\n",
       "             'MEANALP': '[1/Mm] Mean twist parameter, alpha',\n",
       "             'MEANJZH': '[(G^2)/m] Mean current helicity',\n",
       "             'TOTUSJH': '[(G^2)/m] Total unsigned current helicity',\n",
       "             'ABSNJZH': '[(G^2)/m] Absolute value of the net current hel',\n",
       "             'SAVNCPP': '[Amperes] Sum of the Absolute Value of the Net',\n",
       "             'MEANPOT': '[Ergs per cubic centimeter] Mean photospheric e',\n",
       "             'TOTPOT': '[Ergs per cubic centimeter] Total photospheric',\n",
       "             'MEANSHR': '[Degrees] Mean shear angle for B_total',\n",
       "             'SHRGT45': '[Percentage of Total] Area with shear angle gre',\n",
       "             'R_VALUE': '[Maxwell] Unsigned Flux R (Schrijver, 2007)',\n",
       "             'GWILL': '[Mm] (MISSING) GWILL (Mason & Hoeksema, 2010)',\n",
       "             'CTYPE1': 'CRLN',\n",
       "             'CTYPE2': 'CRLT',\n",
       "             'CRPIX1': '[pixel] X coordinate of patch center with respe',\n",
       "             'CRPIX2': '[pixel] Y coordinate of patch center with respe',\n",
       "             'CRVAL1': '[degree] Longitude at center of patch',\n",
       "             'CRVAL2': '[degree] Latitude at center of patch',\n",
       "             'CDELT1': '[degree] Map scale in X direction',\n",
       "             'CDELT2': '[degree] Map scale in Y direction',\n",
       "             'CUNIT1': 'Degree',\n",
       "             'CUNIT2': 'Degree',\n",
       "             'IMCRPIX1': '[pixel] Location of the Sun center in CCD x dir',\n",
       "             'IMCRPIX2': '[pixel] Location of the Sun center in CCD y dir',\n",
       "             'IMCRVAL1': '[arcsec] x origin',\n",
       "             'IMCRVAL2': '[arcsec] y origin',\n",
       "             'CROTA2': '[deg] CROTA2: INST_ROT + SAT_ROT',\n",
       "             'CRDER1': '[arcsec] CRDER1: estimate of random error in co',\n",
       "             'CRDER2': '[arcsec] CRDER2: estimate of random error in co',\n",
       "             'CSYSER1': '[arcsec] (MISSING) CSYSER1: estimate of systema',\n",
       "             'CSYSER2': '[arcsec] (MISSING) CSYSER2: estimate of systema',\n",
       "             'WCSNAME': 'WCS system name',\n",
       "             'DSUN_OBS': '[meters] Distance from SDO to Sun center.',\n",
       "             'DSUN_REF': '[meters] Astronomical Unit',\n",
       "             'RSUN_REF': '[m] Reference radius of the Sun: 696,000,000.0',\n",
       "             'CRLN_OBS': '[deg] Carrington longitude of the observer',\n",
       "             'CRLT_OBS': '[deg] Carrington latitude of the observer',\n",
       "             'CAR_ROT': 'Carrington rotation number of CRLN_OBS',\n",
       "             'OBS_VR': '[m/s] velocity of the observer in radial direct',\n",
       "             'OBS_VW': '[m/s] velocity of the observer solar',\n",
       "             'OBS_VN': '[m/s] velocity of the observer solar',\n",
       "             'RSUN_OBS': '[arcsec] angular radius of Sun. Corresponds to',\n",
       "             'TELESCOP': 'Telescope',\n",
       "             'INSTRUME': 'For HMI: HMI_SIDE1, HMI_FRONT2, or HMI_COMBINED',\n",
       "             'WAVELNTH': '[angstrom] Wavelength',\n",
       "             'CAMERA': 'Camera',\n",
       "             'QUALITY': 'SHARP Quality index',\n",
       "             'QUAL_S': 'Level 1p Quality word',\n",
       "             'QUALLEV1': 'Level 1 quality',\n",
       "             'BUNIT': 'Physical Units {BUNIT_004}',\n",
       "             'ORIGIN': 'Origin',\n",
       "             'CONTENT': 'Content',\n",
       "             'BLD_VERS': 'JSOC',\n",
       "             'CALVER64': 'Calibration Version',\n",
       "             'CODEVER7': 'CVS Versi',\n",
       "             'HFLID': 'HMI_SEQ_ID_FRAMELIST',\n",
       "             'HCFTID': 'HMI_SEQ_ID_FOCUS',\n",
       "             'QLOOK': 'QLOOK: 0=final data, 1=quick',\n",
       "             'HARPNUM': 'HARP ID',\n",
       "             'MASK': 'Lower threshold for membership in this patch',\n",
       "             'ARM_QUAL': 'Quality of the mask (bitfield)',\n",
       "             'ARM_NCLN': 'Number of limb pixels reset to quiet (annulus w',\n",
       "             'H_MERGE': '1 if this HARP merged with an existing region a',\n",
       "             'H_FAINT': '1 if this HARP had faint contrast at this time',\n",
       "             'ARM_MODL': 'ARmask parameter: Cla',\n",
       "             'ARM_EDGE': 'ARmask parameter: Width of annulus at limb to p',\n",
       "             'ARM_BETA': 'ARmask parameter: Mask spatial smoothness',\n",
       "             'LATDTMIN': '[degree] Minimum latitude for disk transit',\n",
       "             'LONDTMIN': '[degree] Minimum longitude for disk transit',\n",
       "             'LATDTMAX': '[degree] Maximum latitude for disk transit',\n",
       "             'LONDTMAX': '[degree] Maximum longitude for disk transit',\n",
       "             'OMEGA_DT': '[degree/day] Rotation rate over disk transit',\n",
       "             'NPIX': 'Number of pixels within the patch',\n",
       "             'SIZE': '[mH] Projected area of patch on image in micro',\n",
       "             'AREA': '[mH] De',\n",
       "             'NACR': 'Number of active pixels in patch',\n",
       "             'SIZE_ACR': '[mH] Projected area of active pixels on image i',\n",
       "             'AREA_ACR': '[mH] De',\n",
       "             'MTOT': '[weber] Sum of absolute LoS flux within the ide',\n",
       "             'MNET': '[weber] Net LoS flux within the identified regi',\n",
       "             'MPOS_TOT': '[weber] Absolute value of total positive LoS fl',\n",
       "             'MNEG_TOT': '[weber] Absolute value of total negative LoS fl',\n",
       "             'MMEAN': '[gauss] Mean of LoS flux density',\n",
       "             'MSTDEV': '[gauss] Standard deviation of LoS flux density',\n",
       "             'MSKEW': 'Skewness of LoS flux density',\n",
       "             'MKURT': 'Kurtosis of LoS flux density',\n",
       "             'LAT_MIN': '[degree] Minimum Stonyhurst latitude of pixels',\n",
       "             'LON_MIN': '[degree] Minimum Stonyhurst longitude of pixels',\n",
       "             'LAT_MAX': '[degree] Maximum Stonyhurst latitude of pixels',\n",
       "             'LON_MAX': '[degree] Maximum Stonyhurst longitude of pixels',\n",
       "             'LAT_FWT': '[degree] Stonyhurst latitude of flux',\n",
       "             'LON_FWT': '[degree] Stonyhurst longitude of flux',\n",
       "             'LATFWTPO': '[degree] Stonyhurst latitude of flux {LAT_FWTPO',\n",
       "             'LONFWTPO': '[degree] Stonyhurst longitude of flux {LON_FWTP',\n",
       "             'LATFWTNE': '[degree] Stonyhurst latitude of flux {LAT_FWTNE',\n",
       "             'LONFWTNE': '[degree] Stonyhurst longitude of flux {LON_FWTN',\n",
       "             'T_FRST': '[TAI] First T_REC stored for HARP (inc',\n",
       "             'T_FRST1': '[TAI] T_REC of initial HARP detection',\n",
       "             'T_LAST1': '[TAI] T_REC of final HARP detection',\n",
       "             'T_LAST': '[TAI] Last T_REC stored for HARP (incl',\n",
       "             'N_PATCH': 'Image slots spanned by HARP (includes pad)',\n",
       "             'N_PATCH1': 'Image slots spanned by HARP (excludes pad)',\n",
       "             'N_PATCHM': 'Missing images/slots in unpadded HARP interval',\n",
       "             'NOAA_AR': 'NOAA AR number that best matches this HARP',\n",
       "             'NOAA_NUM': 'Number of NOAA ARs that match this HARP (0 allo',\n",
       "             'NOAA_ARS': 'Comma',\n",
       "             'INVCODEV': 'Version of VFISV code',\n",
       "             'INVDOCU': '(MISSING) Document for VFISV code',\n",
       "             'INVITERA': 'Number of iterations of VFISV',\n",
       "             'INVSTLGT': 'Flag for stray light. No means that the stray l',\n",
       "             'INVFLPRF': 'Flag/Comment on filter',\n",
       "             'INVPHMAP': 'Flag/Comment on phase map',\n",
       "             'USFLUXL': '[Maxwell] Total unsigned flux {INVVLAVE}',\n",
       "             'MEANGBL': '[Gauss/Mm] Mean value of the line {INVBLAVE}',\n",
       "             'INVBBAVE': '[gauss] avarage of inverted field strength over',\n",
       "             'CMASKL': '[number] Number of pixels that contributed to t',\n",
       "             'INVNCNVG': 'Numer of pixels at which ME VFISV converged',\n",
       "             'AMBCODEV': 'Version of Disambig code',\n",
       "             'AMBDOCU': '(MISSING) Document for Disambig code',\n",
       "             'AMBGMTRY': 'Flag determining whether to use planar or spher',\n",
       "             'AMBPATCH': 'Flag determining whether disambiguation is done',\n",
       "             'AMBWEAK': 'Flag determining method for disambiguating weak',\n",
       "             'AMBNEROD': '[pixels] Number of pixels by which to erode map',\n",
       "             'AMBNGROW': '[pixels] Number of pixels by which to grow erod',\n",
       "             'AMBNPAD': '[pixels] Padding to use in potential field calc',\n",
       "             'AMBNAP': '[pixels] Width of apodizing window in potential',\n",
       "             'AMBNTX': 'Number of tiles to use in x',\n",
       "             'AMBNTY': 'Number of tiles to use in y',\n",
       "             'AMBBTHR0': '[G] Transverse field strength threshold at disk',\n",
       "             'AMBBTHR1': '[G] Transverse field strength threshold at limb',\n",
       "             'AMBSEED': 'Input random number seed',\n",
       "             'AMBNEQ': 'Number of reconfigurations attempted at each te',\n",
       "             'AMBLMBDA': 'Weighting factor between divergence and vertica',\n",
       "             'AMBTFCT0': 'Input factor to scale initial temperature',\n",
       "             'AMBTFCTR': 'Input factor to reduce temperature',\n",
       "             'DATAVALS': 'Data values {DATAVALS_004}',\n",
       "             'MISSVALS': 'Missing values {MISSVALS_004}',\n",
       "             'DATAMIN': 'Minimum value {DATAMIN_004}',\n",
       "             'DATAMAX': 'Maximum value {DATAMAX_004}',\n",
       "             'DATAMEDN': 'Median value {DATAMEDN_004}',\n",
       "             'DATAMEAN': 'Mean value from pixels within 99% of solar radi',\n",
       "             'DATARMS': 'RMS {DATARMS_004}',\n",
       "             'ERRGAM': '[Degrees] Error in Mean inclination angle, gamm',\n",
       "             'ERRTAI': '[(G^2)/m] Absolute value of the net current hel',\n",
       "             'ERRBH': '[Gauss/Mm] Error in Mean value of the horizonta',\n",
       "             'ERRMPOT': '[Ergs per cubic centimeter] Error in Mean photo',\n",
       "             'ERRBT': '[Gauss/Mm] Error in Mean value of the total fie',\n",
       "             'ERRTUI': '[(G^2)/m] Total unsigned current helicity',\n",
       "             'ERRBZ': '[Gauss/Mm] Error in Mean value of the vertical',\n",
       "             'CMASK': '[number] Number of pixels that contributed to t',\n",
       "             'ERRJZ': '[mA/(m^2)] Error in Mean vertical current densi',\n",
       "             'ERRVF': '[Maxwell] Error in Total unsigned flux',\n",
       "             'ERRALP': '[1/Mm] Error in Mean twist parameter, alpha',\n",
       "             'ERRMIH': '[(G^2)/m] Mean current helicity',\n",
       "             'ERRMSHA': '[Degrees] Error in Mean shear angle for B_tot',\n",
       "             'ERRUSI': '[Amperes] Error in Total unsigned vertical curr',\n",
       "             'DOFFSET': '[Gauss] Constant value added to the noise mask',\n",
       "             'ERRTPOT': '[Ergs per cubic centimeter] Error in Total ph',\n",
       "             'ERRJHT': '[Amperes] Sum of the Absolute Value of the Net',\n",
       "             'RECNUM': 'Recnum',\n",
       "             'DRMS_ID': 'DRMS ID',\n",
       "             'PRIMARYK': 'DRMS primary key',\n",
       "             'LICENSE': 'CC0 1.0',\n",
       "             'HEADSUM': 'Keyword checksum',\n",
       "             'LONGSTRN': 'The HEASARC Long String Convention may be used.'})]),\n",
       " 'config': {'data': {'type': 'sharp',\n",
       "   'paths': '/gpfs/gpfs0/robert.jarolim/data/nf2/7115',\n",
       "   'bin': 2,\n",
       "   'height_mapping': {'z': [0.0]},\n",
       "   'Mm_per_pixel': 0.72,\n",
       "   'boundary': {'type': 'potential', 'strides': 4},\n",
       "   'height': 160,\n",
       "   'b_norm': 2500,\n",
       "   'spatial_norm': 160,\n",
       "   'batch_size': {'boundary': 10000.0, 'random': 20000.0},\n",
       "   'iterations': 2000.0,\n",
       "   'work_directory': '/tmp/nf2/hmi_series_7115',\n",
       "   'num_workers': 12},\n",
       "  'model': {'dim': 256, 'use_height_mapping': False},\n",
       "  'training': {'lambda_b': 1,\n",
       "   'lambda_div': 0.1,\n",
       "   'lambda_ff': 0.1,\n",
       "   'lr_params': 0.0005,\n",
       "   'check_val_every_n_epoch': 100}},\n",
       " 'height_mapping_model': None,\n",
       " 'height_mapping': {'z': [0.0]},\n",
       " 'Mm_per_pixel': 0.72}"
      ]
     },
     "execution_count": null,
     "metadata": {},
     "output_type": "execute_result"
    }
   ],
   "source": [
    "state"
   ]
  },
  {
   "cell_type": "code",
   "execution_count": null,
   "metadata": {},
   "outputs": [
    {
     "data": {
      "text/plain": [
       "0.72"
      ]
     },
     "execution_count": null,
     "metadata": {},
     "output_type": "execute_result"
    }
   ],
   "source": [
    "Mm_per_pixel = state[\"Mm_per_pixel\"]\n",
    "Mm_per_pixel"
   ]
  },
  {
   "cell_type": "code",
   "execution_count": null,
   "metadata": {},
   "outputs": [
    {
     "data": {
      "text/plain": [
       "(344, 224, 160)"
      ]
     },
     "execution_count": null,
     "metadata": {},
     "output_type": "execute_result"
    }
   ],
   "source": [
    "Nx, Ny, Nz = state[\"cube_shape\"]\n",
    "Nx, Ny, Nz"
   ]
  },
  {
   "cell_type": "code",
   "execution_count": null,
   "metadata": {},
   "outputs": [
    {
     "data": {
      "text/plain": [
       "(246.95999999999998, 160.56, 114.47999999999999)"
      ]
     },
     "execution_count": null,
     "metadata": {},
     "output_type": "execute_result"
    }
   ],
   "source": [
    "Lx = (Nx - 1) * Mm_per_pixel\n",
    "Ly = (Ny - 1) * Mm_per_pixel\n",
    "Lz = (Nz - 1) * Mm_per_pixel\n",
    "\n",
    "Lx, Ly, Lz"
   ]
  },
  {
   "cell_type": "code",
   "execution_count": null,
   "metadata": {},
   "outputs": [
    {
     "data": {
      "text/plain": [
       "246.95999999999998"
      ]
     },
     "execution_count": null,
     "metadata": {},
     "output_type": "execute_result"
    }
   ],
   "source": [
    "x = np.linspace(0, Lx, Nx)\n",
    "x[-1] - x[0]"
   ]
  },
  {
   "cell_type": "code",
   "execution_count": null,
   "metadata": {},
   "outputs": [],
   "source": [
    "y = np.linspace(0, Ly, Ny)\n",
    "z = np.linspace(0, Lz, Nz)"
   ]
  },
  {
   "cell_type": "code",
   "execution_count": null,
   "metadata": {},
   "outputs": [],
   "source": [
    "from tool.evaluate import curl, divergence, laplacian"
   ]
  },
  {
   "cell_type": "code",
   "execution_count": null,
   "metadata": {},
   "outputs": [
    {
     "data": {
      "text/plain": [
       "(0.72, 0.72, 0.72)"
      ]
     },
     "execution_count": null,
     "metadata": {},
     "output_type": "execute_result"
    }
   ],
   "source": [
    "dx = x[1] - x[0]\n",
    "dy = y[1] - y[0]\n",
    "dz = z[1] - z[0]\n",
    "\n",
    "dx, dy, dz"
   ]
  },
  {
   "cell_type": "code",
   "execution_count": null,
   "metadata": {},
   "outputs": [],
   "source": [
    "from tool.metric import calculate_derivative, calculate_metric, draw_projection"
   ]
  },
  {
   "cell_type": "code",
   "execution_count": null,
   "metadata": {},
   "outputs": [],
   "source": [
    "(\n",
    "    B,\n",
    "    norm_B,\n",
    "    J,\n",
    "    norm_J,\n",
    "    JxB,\n",
    "    norm_JxB,\n",
    "    div_B,\n",
    "    norm_div_B,\n",
    "    laplacian_B,\n",
    "    norm_laplacian_B,\n",
    "    energy_density_B,\n",
    ") = calculate_derivative(Bx, By, Bz, dx, dy, dz)"
   ]
  },
  {
   "cell_type": "code",
   "execution_count": null,
   "metadata": {},
   "outputs": [],
   "source": [
    "(\n",
    "    B_pot,\n",
    "    norm_B_pot,\n",
    "    J_pot,\n",
    "    norm_J_pot,\n",
    "    JxB_pot,\n",
    "    norm_JxB_pot,\n",
    "    div_B_pot,\n",
    "    norm_div_B_pot,\n",
    "    laplacian_B_pot,\n",
    "    norm_laplacian_B_pot,\n",
    "    energy_density_B_pot,\n",
    ") = calculate_derivative(Bx_pot, By_pot, Bz_pot, dx, dy, dz)"
   ]
  },
  {
   "cell_type": "code",
   "execution_count": null,
   "metadata": {},
   "outputs": [
    {
     "name": "stderr",
     "output_type": "stream",
     "text": [
      "/userhome/jeon_mg/workspace/codes/Magnetic_Field_Evaluation/tool/metric.py:108: RuntimeWarning: invalid value encountered in arcsin\n",
      "  theta_i = np.arcsin(sigma_i)\n"
     ]
    }
   ],
   "source": [
    "dV_cm = (dx * 1e8) * (dy * 1e8) * (dz * 1e8)  # cm^3\n",
    "\n",
    "free_energy_density = energy_density_B - energy_density_B_pot\n",
    "total_free_energy = free_energy_density.sum() * dV_cm  # erg\n",
    "\n",
    "(\n",
    "    total_energy,\n",
    "    loss_force_free,\n",
    "    loss_force_free_mean,\n",
    "    loss_div_free,\n",
    "    loss_div_free_mean,\n",
    "    sigma_J,\n",
    "    theta_J,\n",
    "    theta_i_mean,\n",
    "    norm_laplacian_B_mean,\n",
    "    max_idx_0,\n",
    "    norm_laplacian_B_max_0,\n",
    "    max_idx_1,\n",
    "    norm_laplacian_B_max_1,\n",
    "    max_idx_2,\n",
    "    norm_laplacian_B_max_2,\n",
    ") = calculate_metric(\n",
    "    dx,\n",
    "    dy,\n",
    "    dz,\n",
    "    Lx,\n",
    "    Ly,\n",
    "    Lz,\n",
    "    B,\n",
    "    norm_B,\n",
    "    J,\n",
    "    norm_J,\n",
    "    JxB,\n",
    "    norm_JxB,\n",
    "    div_B,\n",
    "    norm_div_B,\n",
    "    laplacian_B,\n",
    "    norm_laplacian_B,\n",
    "    energy_density_B,\n",
    ")\n",
    "\n",
    "(\n",
    "    total_energy_pot,\n",
    "    loss_force_free_pot,\n",
    "    loss_force_free_mean_pot,\n",
    "    loss_div_free_pot,\n",
    "    loss_div_free_mean_pot,\n",
    "    sigma_J_pot,\n",
    "    theta_J_pot,\n",
    "    theta_i_mean_pot,\n",
    "    norm_laplacian_B_mean_pot,\n",
    "    max_idx_0_pot,\n",
    "    norm_laplacian_B_max_0_pot,\n",
    "    max_idx_1_pot,\n",
    "    norm_laplacian_B_max_1_pot,\n",
    "    max_idx_2_pot,\n",
    "    norm_laplacian_B_max_2_pot,\n",
    ") = calculate_metric(\n",
    "    dx,\n",
    "    dy,\n",
    "    dz,\n",
    "    Lx,\n",
    "    Ly,\n",
    "    Lz,\n",
    "    B_pot,\n",
    "    norm_B_pot,\n",
    "    J_pot,\n",
    "    norm_J_pot,\n",
    "    JxB_pot,\n",
    "    norm_JxB_pot,\n",
    "    div_B_pot,\n",
    "    norm_div_B_pot,\n",
    "    laplacian_B_pot,\n",
    "    norm_laplacian_B_pot,\n",
    "    energy_density_B_pot,\n",
    ")"
   ]
  },
  {
   "cell_type": "code",
   "execution_count": null,
   "metadata": {},
   "outputs": [],
   "source": [
    "draw_projection(\n",
    "    free_energy_density,\n",
    "    \"Free energy density (erg/cm^3)\",\n",
    "    os.path.join(\"./\", \"energy_free.png\"),\n",
    "    dx,\n",
    "    dy,\n",
    "    dz,\n",
    "    Lx,\n",
    "    Ly,\n",
    "    Lz,\n",
    "    40,\n",
    "    cm=True,\n",
    "    log=False,\n",
    "    cmap=\"jet\",\n",
    ")"
   ]
  },
  {
   "cell_type": "code",
   "execution_count": null,
   "metadata": {},
   "outputs": [],
   "source": [
    "draw_projection(\n",
    "    norm_J,\n",
    "    r\"$|\\nabla \\times \\mathbf{B}|$\" + \" (G/Mm)\",\n",
    "    os.path.join(\"./\", \"J.png\"),\n",
    "    dx,\n",
    "    dy,\n",
    "    dz,\n",
    "    Lx,\n",
    "    Ly,\n",
    "    Lz,\n",
    "    40,\n",
    ")\n",
    "draw_projection(\n",
    "    norm_laplacian_B,\n",
    "    r\"$|\\nabla^2 \\mathbf{B}|$\" + \" (G/Mm^2)\",\n",
    "    os.path.join(\"./\", \"laplacian_B.png\"),\n",
    "    dx,\n",
    "    dy,\n",
    "    dz,\n",
    "    Lx,\n",
    "    Ly,\n",
    "    Lz,\n",
    "    40,\n",
    ")"
   ]
  },
  {
   "cell_type": "code",
   "execution_count": null,
   "metadata": {},
   "outputs": [
    {
     "data": {
      "text/plain": [
       "21.067844331264496"
      ]
     },
     "execution_count": null,
     "metadata": {},
     "output_type": "execute_result"
    }
   ],
   "source": [
    "sigma_J * 100"
   ]
  },
  {
   "cell_type": "code",
   "execution_count": null,
   "metadata": {},
   "outputs": [],
   "source": []
  }
 ],
 "metadata": {
  "kernelspec": {
   "display_name": "python3",
   "language": "python",
   "name": "python3"
  }
 },
 "nbformat": 4,
 "nbformat_minor": 2
}
