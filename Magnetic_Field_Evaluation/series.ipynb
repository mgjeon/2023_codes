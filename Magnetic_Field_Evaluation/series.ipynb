{
 "cells": [
  {
   "cell_type": "code",
   "execution_count": null,
   "metadata": {},
   "outputs": [],
   "source": [
    "import pickle"
   ]
  },
  {
   "cell_type": "code",
   "execution_count": null,
   "metadata": {},
   "outputs": [],
   "source": [
    "result_pickle = (\n",
    "    \"/Users/mgjeon/workspace/codes/Magnetic_Field_Evaluation/result/result.pickle\"\n",
    ")\n",
    "\n",
    "with open(result_pickle, \"rb\") as f:\n",
    "    results = pickle.load(f)"
   ]
  },
  {
   "cell_type": "code",
   "execution_count": null,
   "metadata": {},
   "outputs": [
    {
     "data": {
      "text/plain": [
       "{'date': [datetime.datetime(2017, 9, 6, 0, 0)],\n",
       " 'total_free_energy': [5.40473257648573e+32],\n",
       " 'total_energy': [2.174873006271547e+33],\n",
       " 'loss_force_free': [393.25104126761124],\n",
       " 'loss_force_free_mean': [389.4360585073134],\n",
       " 'loss_div_free': [87.96283217903282],\n",
       " 'loss_div_free_mean': [87.1094925738069],\n",
       " 'sigma_J': [0.6733802726024836],\n",
       " 'theta_J': [42.328495034483],\n",
       " 'theta_i_mean': [49.916120582999525],\n",
       " 'norm_laplacian_B_mean': [6.338525419449941],\n",
       " 'max_idx_0': [(195, 137, 0)],\n",
       " 'norm_laplacian_B_max_0': [26593.181247839875],\n",
       " 'max_idx_1': [(196, 135, 1)],\n",
       " 'norm_laplacian_B_max_1': [10477.769829885337],\n",
       " 'max_idx_2': [(195, 135, 2)],\n",
       " 'norm_laplacian_B_max_2': [5421.839194894951],\n",
       " 'total_energy_pot': [1.6343997486229687e+33],\n",
       " 'loss_force_free_pot': [11.57457159865015],\n",
       " 'loss_force_free_mean_pot': [11.462285078150808],\n",
       " 'loss_div_free_pot': [24.682325144120668],\n",
       " 'loss_div_free_mean_pot': [24.44287849292971],\n",
       " 'sigma_J_pot': [0.651676739343872],\n",
       " 'theta_J_pot': [40.66814044771306],\n",
       " 'theta_i_mean_pot': [69.53216903662],\n",
       " 'norm_laplacian_B_mean_pot': [2.2149810455298313],\n",
       " 'max_idx_0_pot': [(195, 135, 0)],\n",
       " 'norm_laplacian_B_max_0_pot': [19608.837716889953],\n",
       " 'max_idx_1_pot': [(195, 135, 1)],\n",
       " 'norm_laplacian_B_max_1_pot': [2956.487065155103],\n",
       " 'max_idx_2_pot': [(195, 135, 2)],\n",
       " 'norm_laplacian_B_max_2_pot': [208.5554067863195]}"
      ]
     },
     "execution_count": null,
     "metadata": {},
     "output_type": "execute_result"
    }
   ],
   "source": [
    "results"
   ]
  },
  {
   "cell_type": "code",
   "execution_count": null,
   "metadata": {},
   "outputs": [],
   "source": []
  }
 ],
 "metadata": {
  "kernelspec": {
   "display_name": "python3",
   "language": "python",
   "name": "python3"
  }
 },
 "nbformat": 4,
 "nbformat_minor": 2
}
