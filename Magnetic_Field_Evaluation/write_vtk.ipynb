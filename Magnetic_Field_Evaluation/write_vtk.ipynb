{
 "cells": [
  {
   "cell_type": "code",
   "execution_count": 1,
   "metadata": {},
   "outputs": [],
   "source": [
    "noaanum = 12673\n",
    "obsdate = \"20170906_090000\"\n",
    "\n",
    "# ISEE / Kusano\n",
    "nc_file = f\"/mnt/obsdata/isee_nlfff_v1.2/{noaanum}/{noaanum}_{obsdate}.nc\""
   ]
  },
  {
   "cell_type": "code",
   "execution_count": 2,
   "metadata": {},
   "outputs": [],
   "source": [
    "from tool.metric import load_nc_file, calculate_derivative"
   ]
  },
  {
   "cell_type": "code",
   "execution_count": 3,
   "metadata": {},
   "outputs": [],
   "source": [
    "x, y, z, Bx, By, Bz, Bx_pot, By_pot, Bz_pot = load_nc_file(nc_file)"
   ]
  },
  {
   "cell_type": "code",
   "execution_count": 4,
   "metadata": {},
   "outputs": [],
   "source": [
    "dx = x[1] - x[0]  # Mm\n",
    "dy = y[1] - y[0]  # Mm\n",
    "dz = z[1] - z[0]  # Mm\n",
    "\n",
    "Lx = x[-1] - x[0]  # Mm\n",
    "Ly = y[-1] - y[0]  # Mm\n",
    "Lz = z[-1] - z[0]  # Mm"
   ]
  },
  {
   "cell_type": "code",
   "execution_count": 5,
   "metadata": {},
   "outputs": [],
   "source": [
    "(\n",
    "    B,\n",
    "    norm_B,\n",
    "    J,\n",
    "    norm_J,\n",
    "    JxB,\n",
    "    norm_JxB,\n",
    "    div_B,\n",
    "    norm_div_B,\n",
    "    laplacian_B,\n",
    "    norm_laplacian_B,\n",
    "    energy_density_B,\n",
    ") = calculate_derivative(Bx, By, Bz, dx, dy, dz)"
   ]
  },
  {
   "cell_type": "code",
   "execution_count": 6,
   "metadata": {},
   "outputs": [],
   "source": [
    "import numpy as np \n",
    "import scipy.signal as ss"
   ]
  },
  {
   "cell_type": "code",
   "execution_count": 7,
   "metadata": {},
   "outputs": [
    {
     "data": {
      "text/plain": [
       "118996.61878377522"
      ]
     },
     "execution_count": 7,
     "metadata": {},
     "output_type": "execute_result"
    }
   ],
   "source": [
    "np.max(laplacian_B)"
   ]
  },
  {
   "cell_type": "code",
   "execution_count": 8,
   "metadata": {},
   "outputs": [
    {
     "data": {
      "text/plain": [
       "46866777"
      ]
     },
     "execution_count": 8,
     "metadata": {},
     "output_type": "execute_result"
    }
   ],
   "source": [
    "np.argmax(laplacian_B)"
   ]
  },
  {
   "cell_type": "code",
   "execution_count": 9,
   "metadata": {},
   "outputs": [
    {
     "data": {
      "text/plain": [
       "(array([1, 1, 1, ..., 1, 1, 1]),\n",
       " array([  0,   0,   0, ..., 512, 512, 512]),\n",
       " array([  0,   0,   0, ..., 256, 256, 256]),\n",
       " array([  0,  70,  79, ..., 254, 255, 256]))"
      ]
     },
     "execution_count": 9,
     "metadata": {},
     "output_type": "execute_result"
    }
   ],
   "source": [
    "ss.argrelmax(laplacian_B)"
   ]
  },
  {
   "cell_type": "code",
   "execution_count": 10,
   "metadata": {},
   "outputs": [],
   "source": [
    "from tool.write_vtk import create_mesh"
   ]
  },
  {
   "cell_type": "code",
   "execution_count": 11,
   "metadata": {},
   "outputs": [],
   "source": [
    "mesh = create_mesh(nc_file)"
   ]
  },
  {
   "cell_type": "code",
   "execution_count": 12,
   "metadata": {},
   "outputs": [],
   "source": [
    "mesh[\"laplacianB\"] = laplacian_B.transpose(2, 1, 0, 3).reshape(-1, 3)"
   ]
  },
  {
   "cell_type": "code",
   "execution_count": 32,
   "metadata": {},
   "outputs": [],
   "source": [
    "mesh_dir = \"/mnt/userdata/jeon_mg/series/result\""
   ]
  },
  {
   "cell_type": "code",
   "execution_count": 33,
   "metadata": {},
   "outputs": [],
   "source": [
    "import os"
   ]
  },
  {
   "cell_type": "code",
   "execution_count": 34,
   "metadata": {},
   "outputs": [],
   "source": [
    "vtk_dir = os.path.join(mesh_dir, str(noaanum)+'_vtk')\n",
    "os.makedirs(vtk_dir, exist_ok=True)"
   ]
  },
  {
   "cell_type": "code",
   "execution_count": 35,
   "metadata": {},
   "outputs": [
    {
     "data": {
      "text/plain": [
       "'/mnt/userdata/jeon_mg/series/12673_vtk/12673_20170906_090000.vtk'"
      ]
     },
     "execution_count": 35,
     "metadata": {},
     "output_type": "execute_result"
    }
   ],
   "source": [
    "vtk_path = os.path.join(vtk_dir, os.path.basename(nc_file).split('.')[0]) + '.vtk'\n",
    "vtk_path"
   ]
  },
  {
   "cell_type": "code",
   "execution_count": 36,
   "metadata": {},
   "outputs": [],
   "source": [
    "mesh.save(vtk_path)"
   ]
  },
  {
   "cell_type": "code",
   "execution_count": null,
   "metadata": {},
   "outputs": [],
   "source": []
  }
 ],
 "metadata": {
  "kernelspec": {
   "display_name": "nf2",
   "language": "python",
   "name": "python3"
  },
  "language_info": {
   "codemirror_mode": {
    "name": "ipython",
    "version": 3
   },
   "file_extension": ".py",
   "mimetype": "text/x-python",
   "name": "python",
   "nbconvert_exporter": "python",
   "pygments_lexer": "ipython3",
   "version": "3.10.12"
  },
  "orig_nbformat": 4
 },
 "nbformat": 4,
 "nbformat_minor": 2
}
