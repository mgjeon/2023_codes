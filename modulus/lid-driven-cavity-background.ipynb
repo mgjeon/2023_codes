{
 "cells": [
  {
   "cell_type": "code",
   "execution_count": 1,
   "metadata": {},
   "outputs": [],
   "source": [
    "import os \n",
    "os.environ['CUDA_VISIBLE_DEVICES'] = '2'"
   ]
  },
  {
   "cell_type": "code",
   "execution_count": 2,
   "metadata": {},
   "outputs": [],
   "source": [
    "import warnings\n",
    "\n",
    "from sympy import Symbol, Eq, Abs\n",
    "\n",
    "import modulus.sym\n",
    "from modulus.sym.hydra import to_absolute_path, instantiate_arch, ModulusConfig\n",
    "from modulus.sym.solver import Solver\n",
    "from modulus.sym.domain import Domain\n",
    "from modulus.sym.geometry.primitives_2d import Rectangle\n",
    "from modulus.sym.domain.constraint import (\n",
    "    PointwiseBoundaryConstraint,\n",
    "    PointwiseInteriorConstraint,\n",
    ")\n",
    "from modulus.sym.domain.validator import PointwiseValidator\n",
    "from modulus.sym.domain.inferencer import PointwiseInferencer\n",
    "from modulus.sym.key import Key\n",
    "from modulus.sym.eq.pdes.navier_stokes import NavierStokes\n",
    "from modulus.sym.utils.io import (\n",
    "    csv_to_dict,\n",
    "    ValidatorPlotter,\n",
    "    InferencerPlotter,\n",
    ")"
   ]
  },
  {
   "cell_type": "code",
   "execution_count": null,
   "metadata": {},
   "outputs": [],
   "source": [
    "@modulus.sym.main(config_path=\"conf\", config_name=\"config\")\n",
    "def run(cfg: ModulusConfig) -> None:\n",
    "    # make list of nodes to unroll graph on\n",
    "    ns = NavierStokes(nu=0.01, rho=1.0, dim=2, time=False)\n",
    "    flow_net = instantiate_arch(\n",
    "        input_keys=[Key(\"x\"), Key(\"y\")],\n",
    "        output_keys=[Key(\"u\"), Key(\"v\"), Key(\"p\")],\n",
    "        cfg=cfg.arch.fully_connected,\n",
    "    )\n",
    "    flow_net = instantiate_arch(\n",
    "        input_keys=[Key(\"x\"), Key(\"y\")],\n",
    "        output_keys=[Key(\"u\"), Key(\"v\"), Key(\"p\")],\n",
    "        cfg=cfg.arch.fully_connected,\n",
    "    )\n",
    "    nodes = ns.make_nodes() + [flow_net.make_node(name=\"flow_network\")]\n",
    "\n",
    "    # add constraints to solver\n",
    "    # make geometry\n",
    "    height = 0.1\n",
    "    width = 0.1\n",
    "    x, y = Symbol(\"x\"), Symbol(\"y\")\n",
    "    rec = Rectangle((-width / 2, -height / 2), (width / 2, height / 2))\n",
    "\n",
    "    # make ldc domain\n",
    "    ldc_domain = Domain()"
   ]
  }
 ],
 "metadata": {
  "kernelspec": {
   "display_name": "modulus",
   "language": "python",
   "name": "python3"
  },
  "language_info": {
   "codemirror_mode": {
    "name": "ipython",
    "version": 3
   },
   "file_extension": ".py",
   "mimetype": "text/x-python",
   "name": "python",
   "nbconvert_exporter": "python",
   "pygments_lexer": "ipython3",
   "version": "3.10.12"
  }
 },
 "nbformat": 4,
 "nbformat_minor": 2
}
